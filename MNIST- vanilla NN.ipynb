{
 "cells": [
  {
   "cell_type": "markdown",
   "metadata": {},
   "source": [
    "# MNIST classification with a simple neural network"
   ]
  },
  {
   "cell_type": "markdown",
   "metadata": {},
   "source": [
    "**You will learn to:**\n",
    "- Build the general architecture of a neural network using TensorFlow, including:\n",
    "    - Initializing parameters\n",
    "    - Calculating the cost function and its gradient\n",
    "    - Using an optimization algorithm (gradient descent) to update the parameters\n",
    "- Make predictions and check the accuracy of your classification."
   ]
  },
  {
   "cell_type": "markdown",
   "metadata": {},
   "source": [
    "## 1 - Packages ##\n",
    "\n",
    "First, let's run the cell below to import all the packages that you will need during this assignment. \n",
    "- [numpy](www.numpy.org) is the fundamental package for scientific computing with Python.\n",
    "- [matplotlib](http://matplotlib.org) is a famous library to plot graphs in Python.\n",
    "- [tensorflow](https://www.tensorflow.org/) is an open source software library for high performance numerical computation. Its flexible architecture allows easy deployment of computation across a variety of platforms (CPUs & GPUs)"
   ]
  },
  {
   "cell_type": "code",
   "execution_count": 1,
   "metadata": {},
   "outputs": [],
   "source": [
    "import numpy as np\n",
    "import matplotlib.pyplot as plt\n",
    "\n",
    "import tensorflow as tf\n",
    "from tensorflow.examples.tutorials.mnist import input_data"
   ]
  },
  {
   "cell_type": "markdown",
   "metadata": {},
   "source": [
    "## 2 - Overview of the MNIST data set ##\n",
    "\n",
    "We'll be using a dataset known as MNIST containing:\n",
    "    - a training set of 55000 images of handwritten digits labeled with the correspoding number\n",
    "    - a test set of 10000 images labeled with the correct number\n",
    "    - each image is of shape (28, 28). Thus, each image is square (height = 28) and (width = 28).\n",
    "\n",
    "You will build a simple image-recognition algorithm that can correctly classify the images among 10 categories i.e. 0,1,2,3,4,5,6,7,8,9.\n",
    "\n",
    "Let's get more familiar with the dataset. Load the data by running the following code."
   ]
  },
  {
   "cell_type": "code",
   "execution_count": 30,
   "metadata": {},
   "outputs": [
    {
     "name": "stdout",
     "output_type": "stream",
     "text": [
      "Extracting MNIST/train-images-idx3-ubyte.gz\n",
      "Extracting MNIST/train-labels-idx1-ubyte.gz\n",
      "Extracting MNIST/t10k-images-idx3-ubyte.gz\n",
      "Extracting MNIST/t10k-labels-idx1-ubyte.gz\n"
     ]
    }
   ],
   "source": [
    "# Loading the dataset\n",
    "mnist = input_data.read_data_sets(\"MNIST/\", one_hot=True)"
   ]
  },
  {
   "cell_type": "code",
   "execution_count": 3,
   "metadata": {},
   "outputs": [
    {
     "data": {
      "text/plain": [
       "((55000, 784), (55000, 10))"
      ]
     },
     "execution_count": 3,
     "metadata": {},
     "output_type": "execute_result"
    }
   ],
   "source": [
    "mnist.train.images.shape, mnist.train.labels.shape"
   ]
  },
  {
   "cell_type": "code",
   "execution_count": 4,
   "metadata": {},
   "outputs": [
    {
     "data": {
      "text/plain": [
       "((10000, 784), (10000, 10))"
      ]
     },
     "execution_count": 4,
     "metadata": {},
     "output_type": "execute_result"
    }
   ],
   "source": [
    "mnist.test.images.shape, mnist.test.labels.shape"
   ]
  },
  {
   "cell_type": "markdown",
   "metadata": {},
   "source": [
    "Each line of `mnist.train.images` and `mnist.test.images` is an array representing an image. \n",
    "\n",
    "The images have been flattened i.e. converted from 28 x 28 array to 784.\n",
    "\n",
    "Each line of `mnist.train.labels.shape` and `mnist.test.labels.shape` is a array size 10, because the class labels are in [one-hot encoded](https://hackernoon.com/what-is-one-hot-encoding-why-and-when-do-you-have-to-use-it-e3c6186d008f) form.\n",
    "\n",
    "You can visualize an example by running the following code. Feel free also to change the `index` value and re-run to see other images. "
   ]
  },
  {
   "cell_type": "code",
   "execution_count": 5,
   "metadata": {},
   "outputs": [
    {
     "data": {
      "image/png": "[encoded data removed]",
      "text/plain": [
       "<Figure size 432x288 with 1 Axes>"
      ]
     },
     "metadata": {},
     "output_type": "display_data"
    }
   ],
   "source": [
    "# Example of an image\n",
    "index = 0\n",
    "first_image = mnist.train.images[index]\n",
    "first_image = np.array(first_image, dtype='float')\n",
    "first_image = first_image.reshape((28,28))\n",
    "plt.imshow(first_image)\n",
    "plt.show()"
   ]
  },
  {
   "cell_type": "markdown",
   "metadata": {},
   "source": [
    "## 3 - Neural Network model using TensorFlow\n",
    "\n",
    "We are going to train a Neural Network with two hidden layers.\n",
    "\n",
    "The general methodology to build a Neural Network is to:\n",
    "    1. Define the neural network structure ( no. of input units,  no. of hidden units, etc). \n",
    "    2. Initialize the model's parameters\n",
    "    3. Loop:\n",
    "        - Implement forward propagation\n",
    "        - Compute loss\n",
    "        - Implement backward propagation to get the gradients\n",
    "        - Update parameters (gradient descent)\n",
    "\n",
    "### 3.1 - Defining the neural network structure ####\n",
    "\n",
    "Define three variables:\n",
    "    - n_input: the size of the input layer\n",
    "    - n_h1: the size of the first hidden layer (randomly taken to be 400, try different values)\n",
    "    - n_h2: the size of the first hidden layer (randomly taken to be 200)\n",
    "    - n_classes: the size of the output layer"
   ]
  },
  {
   "cell_type": "code",
   "execution_count": 6,
   "metadata": {},
   "outputs": [],
   "source": [
    "n_input = 784\n",
    "n_h1 = 400\n",
    "n_h2 = 200\n",
    "n_classes = 10"
   ]
  },
  {
   "cell_type": "markdown",
   "metadata": {},
   "source": [
    "### 3.2 - Initialize the model's parameters ####\n",
    "\n",
    "- We will initialize the weights matrices with random values in the form of a dictionary. \n",
    "    - We use: `tf.random_normal([a,b])` to initialize a matrix of shape (a,b) with random values from a normal distribution.\n",
    "- We will initialize these weight matrices as TensorFlow variable to add it to the computation graph. \n",
    "    - We use: `tf.Variable(M)` to initialize a matrix M as a TensorFlow tensor."
   ]
  },
  {
   "cell_type": "code",
   "execution_count": 7,
   "metadata": {},
   "outputs": [],
   "source": [
    "wts = {\n",
    "    'h1': tf.Variable(tf.random_normal([n_input, n_h1])),\n",
    "    'h2': tf.Variable(tf.random_normal([n_h1, n_h2])),\n",
    "    'output': tf.Variable(tf.random_normal([n_h2, n_classes]))\n",
    "}\n",
    "\n",
    "biases = {\n",
    "    'h1': tf.Variable(tf.random_normal([n_h1])),\n",
    "    'h2': tf.Variable(tf.random_normal([n_h2])),\n",
    "    'output': tf.Variable(tf.random_normal([n_classes]))\n",
    "}"
   ]
  },
  {
   "cell_type": "markdown",
   "metadata": {},
   "source": [
    "### 3.3 - Forward Propagation module ####\n",
    "\n",
    "We implement a `forward_propagation()` function to do the matrix multiplications and predict outputs labels for the images.\n",
    "\n",
    "- The steps we implement are:\n",
    "    1. Retrieve each weight and bias from the dictionaries \"wts\" and \"biases\"  by using `wts[\"..\"]` and `biases[\"..\"]`.\n",
    "    2. Implement Forward Propagation. Compute the vector of all your predictions on all the examples in the training set.\n",
    "- We make use of TensorFlow math functions like `tf.matmul()` and `tf.add()` to calculate $Z{} =  W^{} X^{} + b^{}$ and then pass $Z$ through a [`ReLU`](https://en.wikipedia.org/wiki/Rectifier_(neural_networks)) activation function.\n",
    "    - **ReLU**: The mathematical formula for ReLU is  $RELU(Z) = max(0, Z)$.  We make use of `tf.nn.relu()` function provided by TensorFlow. "
   ]
  },
  {
   "cell_type": "code",
   "execution_count": 8,
   "metadata": {},
   "outputs": [],
   "source": [
    "def forward_propagation(X, wts, biases):\n",
    "    layer1_in = tf.add(tf.matmul(X, wts['h1']), biases['h1'])\n",
    "    layer1_out = tf.nn.relu(layer1_in)\n",
    "    \n",
    "    layer2_in = tf.add(tf.matmul(layer1_out, wts['h2']), biases['h2'])\n",
    "    layer2_out = tf.nn.relu(layer2_in)\n",
    "    \n",
    "    output = tf.add(tf.matmul(layer2_out, wts['output']), biases['output'])\n",
    "    return output"
   ]
  },
  {
   "cell_type": "code",
   "execution_count": 9,
   "metadata": {},
   "outputs": [],
   "source": [
    "X = tf.placeholder('float',[None, n_input])\n",
    "Y = tf.placeholder(tf.int32,[None, n_classes])\n",
    "pred = forward_propagation(X, wts, biases)"
   ]
  },
  {
   "cell_type": "markdown",
   "metadata": {},
   "source": [
    "We use `tf.placeholder()` to assign X and Y. A placeholder is simply a variable that we will assign data to at a later date. It allows us to create our operations and build our computation graph, without needing the actual value or data."
   ]
  },
  {
   "cell_type": "markdown",
   "metadata": {},
   "source": [
    "## 4 - Cost function\n",
    "\n",
    "Now, we will implement forward along with backward propagation. We need to compute the cost, because we want to check if our model is actually learning.\n",
    "\n",
    "We compute the cross-entropy cost, using a similar formula for multi-class classification with k classes: $$- \\sum\\limits_{i = 1}^{k} y_{true}\\log\\left(y_{pred}\\right)$$\n"
   ]
  },
  {
   "cell_type": "code",
   "execution_count": 10,
   "metadata": {},
   "outputs": [],
   "source": [
    "cost = tf.reduce_mean(tf.nn.softmax_cross_entropy_with_logits_v2(logits=pred, labels=Y))"
   ]
  },
  {
   "cell_type": "markdown",
   "metadata": {},
   "source": [
    "## 5 - Backward propagation module\n",
    "\n",
    "### 5.1 - Optimizer####\n",
    "\n",
    "Now, we choose an optimizer like `AdamOptimizer` and use it to minimise our cost function according to a fixed learning rate and epochs (number of iterations) defined by us. We can play around with different values of `learning_rate` and `epochs` to reach the optimum values of parameters for our network.\n",
    "- Here we use `tf.train.AdamOptimizer()` to train our model. This optimizer provided by TensorFlow tries to minimize the `cost` using back-propagation to push back the gradients and update the parameters of our network.\n",
    "- This is done not once but `epochs` number of times over batches of the entire data."
   ]
  },
  {
   "cell_type": "code",
   "execution_count": 11,
   "metadata": {},
   "outputs": [],
   "source": [
    "# Initialize learning rate and no. of epochs\n",
    "learning_rate = 0.01\n",
    "epochs = 50"
   ]
  },
  {
   "cell_type": "code",
   "execution_count": 12,
   "metadata": {},
   "outputs": [],
   "source": [
    "# Defining the optimizer\n",
    "optimizer = tf.train.AdamOptimizer(learning_rate=learning_rate)\n",
    "optimize = optimizer.minimize(cost)"
   ]
  },
  {
   "cell_type": "markdown",
   "metadata": {},
   "source": [
    "### 5.2 - Session ####\n",
    "\n",
    "Everything we have done until now has led to the creation of a static computational graph i.e. the values haven't been actually calculated, but the sequence of calculations that need to happen is well-defined and ready.\n",
    "\n",
    " - TensorFlow uses the `tf.Session` class to represent a connection between this Python program and the C++ runtime. A `tf.Session` object provides access to devices in your local machine, and remote devices using the distributed TensorFlow runtime. It also caches information about your `tf.Graph` that is automatically generated until now so that you can efficiently run the same computation multiple times.\n",
    " \n",
    " \n",
    " - Basically, TensorFlow doesn't perform any operations on the way i.e. dynamically. You define and initialize all the variables & operations in the computational graphs, and then performs these computations at once when the `tf.Session` object is called.\n",
    " \n",
    " \n",
    " - `tf.global_variables_initializer()` initializes all the variables defined upto this point in this session, to be used in upcoming  computations."
   ]
  },
  {
   "cell_type": "code",
   "execution_count": 13,
   "metadata": {},
   "outputs": [],
   "source": [
    "sess = tf.Session()\n",
    "sess.run(tf.global_variables_initializer())"
   ]
  },
  {
   "cell_type": "markdown",
   "metadata": {},
   "source": [
    "### 5.2 - Training process ####\n",
    "\n",
    "- We send the input to our model in mini-batches or subsets of the whole dataset instead of single examples. This is done to introduce enough generalization during training as an average effect of a batch is taken into consideration during back-propagation and while updating the parameters.\n",
    "- We can tweak the `batch_size` to see it's effect on training.\n",
    "- `sess.run()` is used to evaluate the computation graph of our network from scratch; we provide two variables to be evaluated during the `sess.run()` namely `cost` and `optimize` which minimizes the cost using `optimizer` defined earlier.\n",
    "- The argument `feed_dict` is used to feed values to TensorFlow placeholders `X` and `Y` that we created earlier."
   ]
  },
  {
   "cell_type": "code",
   "execution_count": 14,
   "metadata": {},
   "outputs": [
    {
     "name": "stdout",
     "output_type": "stream",
     "text": [
      "Cost after iteration 0: 27151.221010684967\n",
      "Cost after iteration 1: 4562.438317202032\n",
      "Cost after iteration 2: 2287.1990031975292\n",
      "Cost after iteration 3: 1527.6662657364832\n",
      "Cost after iteration 4: 1108.081490490848\n",
      "Cost after iteration 5: 1062.183263152381\n",
      "Cost after iteration 6: 881.5504170255284\n",
      "Cost after iteration 7: 831.2259050734397\n",
      "Cost after iteration 8: 682.6181012714269\n",
      "Cost after iteration 9: 678.6381763730144\n",
      "Cost after iteration 10: 445.37055889136275\n",
      "Cost after iteration 11: 446.78247913228097\n",
      "Cost after iteration 12: 397.0535288006125\n",
      "Cost after iteration 13: 325.1885979445384\n",
      "Cost after iteration 14: 285.3531211745165\n",
      "Cost after iteration 15: 256.26912213090145\n",
      "Cost after iteration 16: 209.50660549166574\n",
      "Cost after iteration 17: 152.00371034349763\n",
      "Cost after iteration 18: 145.08221521088535\n",
      "Cost after iteration 19: 153.00478714489736\n",
      "Cost after iteration 20: 136.2786254957373\n",
      "Cost after iteration 21: 106.05397274324787\n",
      "Cost after iteration 22: 110.16627493743351\n",
      "Cost after iteration 23: 123.00054991757497\n",
      "Cost after iteration 24: 92.72559686354361\n",
      "Cost after iteration 25: 89.69963174958775\n",
      "Cost after iteration 26: 73.13729604970649\n",
      "Cost after iteration 27: 79.7942920041969\n",
      "Cost after iteration 28: 64.324280220133\n",
      "Cost after iteration 29: 66.8576502973483\n",
      "Cost after iteration 30: 67.56781465589074\n",
      "Cost after iteration 31: 64.53695222242823\n",
      "Cost after iteration 32: 70.66708927683067\n",
      "Cost after iteration 33: 69.88474587058226\n",
      "Cost after iteration 34: 51.38299891910356\n",
      "Cost after iteration 35: 69.89416047650002\n",
      "Cost after iteration 36: 58.09900584123852\n",
      "Cost after iteration 37: 47.341321920738665\n",
      "Cost after iteration 38: 41.12513483231422\n",
      "Cost after iteration 39: 52.83284409547878\n",
      "Cost after iteration 40: 44.84439510711627\n",
      "Cost after iteration 41: 53.4233701811354\n",
      "Cost after iteration 42: 46.94742724430034\n",
      "Cost after iteration 43: 44.896093162079865\n",
      "Cost after iteration 44: 53.57184142260064\n",
      "Cost after iteration 45: 46.177538396271984\n",
      "Cost after iteration 46: 42.650057086052584\n",
      "Cost after iteration 47: 50.528677208998374\n",
      "Cost after iteration 48: 44.776222090637255\n",
      "Cost after iteration 49: 41.35444625510365\n"
     ]
    }
   ],
   "source": [
    "# Define a batch size\n",
    "batch_size = 100\n",
    "costs = []\n",
    "\n",
    "# Train the model\n",
    "for i in range(epochs):\n",
    "    num_batches = int(mnist.train.num_examples/batch_size)\n",
    "    total_cost = 0\n",
    "    for j in range(num_batches):\n",
    "        batch_x, batch_y = mnist.train.next_batch(batch_size)\n",
    "        c, _ = sess.run([cost,optimize], feed_dict={X:batch_x, Y:batch_y})\n",
    "        total_cost += c\n",
    "    \n",
    "    # Print the cost every iteration\n",
    "    print(\"Cost after iteration {}: {}\".format(i, total_cost))\n",
    "    costs.append(total_cost)  "
   ]
  },
  {
   "cell_type": "code",
   "execution_count": 15,
   "metadata": {},
   "outputs": [
    {
     "data": {
      "image/png": "[encoded data removed]",
      "text/plain": [
       "<Figure size 432x288 with 1 Axes>"
      ]
     },
     "metadata": {},
     "output_type": "display_data"
    }
   ],
   "source": [
    "# Plot learning curve (with costs)\n",
    "costs = np.squeeze(costs)\n",
    "plt.plot(costs)\n",
    "plt.ylabel('cost')\n",
    "plt.xlabel('iterations')\n",
    "plt.title(\"Learning rate =\" + str(learning_rate))\n",
    "plt.show()"
   ]
  },
  {
   "cell_type": "markdown",
   "metadata": {},
   "source": [
    "We can observe from the graph that the cost reduces as it should. Try using different optimizers and cost functions to get an idea of what works best."
   ]
  },
  {
   "cell_type": "markdown",
   "metadata": {},
   "source": [
    "## 6 - Making Predictions\n",
    "\n",
    "### 6.1 - Making predictions using our model####\n",
    "\n",
    "- We use `tf.argmax()` to return the index with the largest value across axes of a tensor. This is done to convert the one-hot encoded predictions to simple class labels.\n",
    "- We use `tf.equal()` to calculate the examples for which the predicted class label was correct."
   ]
  },
  {
   "cell_type": "code",
   "execution_count": 16,
   "metadata": {},
   "outputs": [],
   "source": [
    "predictions = tf.argmax(pred, 1)\n",
    "true_labels = tf.argmax(Y, 1)"
   ]
  },
  {
   "cell_type": "code",
   "execution_count": 17,
   "metadata": {},
   "outputs": [],
   "source": [
    "correct_predictions = tf.equal(predictions, true_labels)"
   ]
  },
  {
   "cell_type": "code",
   "execution_count": 18,
   "metadata": {},
   "outputs": [],
   "source": [
    "predictions_eval, labels, correct_pred = sess.run([predictions, true_labels, correct_predictions], feed_dict={X:mnist.test.images, Y:mnist.test.labels})"
   ]
  },
  {
   "cell_type": "markdown",
   "metadata": {},
   "source": [
    "Note that here we input test examples & labels i.e. `mnist.test.images` & `mnist.test.labels`to our model via the `feed_dict` argument."
   ]
  },
  {
   "cell_type": "markdown",
   "metadata": {},
   "source": [
    "### 6.2 - Evaluating the accuracy####\n",
    "\n",
    "We evaluate the accuracy of our model using the `correct_pred` vector."
   ]
  },
  {
   "cell_type": "code",
   "execution_count": 19,
   "metadata": {},
   "outputs": [
    {
     "data": {
      "text/plain": [
       "(array([7, 2, 1, ..., 4, 5, 6], dtype=int64),\n",
       " array([7, 2, 1, ..., 4, 5, 6], dtype=int64),\n",
       " array([ True,  True,  True, ...,  True,  True,  True]))"
      ]
     },
     "execution_count": 19,
     "metadata": {},
     "output_type": "execute_result"
    }
   ],
   "source": [
    "predictions_eval, labels, correct_pred"
   ]
  },
  {
   "cell_type": "code",
   "execution_count": 27,
   "metadata": {},
   "outputs": [
    {
     "name": "stdout",
     "output_type": "stream",
     "text": [
      "Correct predictions: 9587/10000\n"
     ]
    }
   ],
   "source": [
    "# Calculating the number of predictions out of 10000 that our model labeled correctly\n",
    "print(\"Correct predictions: \"+str(correct_pred.sum())+\"/10000\")"
   ]
  },
  {
   "cell_type": "code",
   "execution_count": 29,
   "metadata": {},
   "outputs": [
    {
     "name": "stdout",
     "output_type": "stream",
     "text": [
      " Percentage Accuracy:  95.87\n"
     ]
    }
   ],
   "source": [
    "#Calculating percentage accuracy\n",
    "print(\" Percentage Accuracy: \", (correct_pred.sum()/correct_pred.shape[0])*100)"
   ]
  },
  {
   "cell_type": "markdown",
   "metadata": {},
   "source": [
    "**So as you can see, we achieved a pretty good accuracy for such a simple model; we can improve upon this further by tweaking the network structure, training process etc.**"
   ]
  }
 ],
 "metadata": {
  "kernelspec": {
   "display_name": "Python 3",
   "language": "python",
   "name": "python3"
  },
  "language_info": {
   "codemirror_mode": {
    "name": "ipython",
    "version": 3
   },
   "file_extension": ".py",
   "mimetype": "text/x-python",
   "name": "python",
   "nbconvert_exporter": "python",
   "pygments_lexer": "ipython3",
   "version": "3.6.6"
  }
 },
 "nbformat": 4,
 "nbformat_minor": 2
}
